{
 "cells": [
  {
   "cell_type": "code",
   "execution_count": 1,
   "id": "3bd1f7c6",
   "metadata": {},
   "outputs": [],
   "source": [
    "from drawdata import ScatterWidget\n"
   ]
  },
  {
   "cell_type": "code",
   "execution_count": 2,
   "id": "052fba67",
   "metadata": {},
   "outputs": [],
   "source": [
    "widget = ScatterWidget()\n"
   ]
  },
  {
   "cell_type": "code",
   "execution_count": 5,
   "id": "9d35d680",
   "metadata": {},
   "outputs": [],
   "source": [
    "import matplotlib.pyplot as plt\n",
    "from IPython.core.display import HTML\n",
    "from sklearn.linear_model import LogisticRegression\n",
    "from sklearn.inspection import DecisionBoundaryDisplay\n",
    "from sklearn.tree import DecisionTreeClassifier\n",
    "\n",
    "import matplotlib.pylab as plt \n",
    "import numpy as np\n",
    "import ipywidgets"
   ]
  },
  {
   "cell_type": "code",
   "execution_count": 6,
   "id": "1209c73b",
   "metadata": {},
   "outputs": [
    {
     "data": {
      "application/vnd.jupyter.widget-view+json": {
       "model_id": "0893c6c2025f4bebb2fbb2ad986fec3e",
       "version_major": 2,
       "version_minor": 0
      },
      "text/plain": [
       "HBox(children=(ScatterWidget(), Output()))"
      ]
     },
     "execution_count": 6,
     "metadata": {},
     "output_type": "execute_result"
    }
   ],
   "source": [
    "widget = ScatterWidget()\n",
    "output = ipywidgets.Output()\n",
    "\n",
    "\n",
    "@output.capture(clear_output=True)\n",
    "def on_change(change):\n",
    "    df = widget.data_as_pandas\n",
    "    if len(df) and (df['color'].nunique() > 1):\n",
    "        X = df[['x', 'y']].values\n",
    "        y = df['color']\n",
    "        display(HTML(\"<br><br><br>\"))\n",
    "        fig = plt.figure(figsize=(12, 12));\n",
    "        classifier = DecisionTreeClassifier().fit(X, y)\n",
    "        disp = DecisionBoundaryDisplay.from_estimator(\n",
    "            classifier, X, \n",
    "            response_method=\"predict_proba\" if len(np.unique(df['color'])) == 2 else \"predict\",\n",
    "            xlabel=\"x\", ylabel=\"y\",\n",
    "            alpha=0.5,\n",
    "        );\n",
    "        disp.ax_.scatter(X[:, 0], X[:, 1], c=y, edgecolor=\"k\");\n",
    "        plt.title(f\"{classifier.__class__.__name__}\");\n",
    "        plt.show();\n",
    "\n",
    "widget.observe(on_change, names=[\"data\"])\n",
    "on_change(None)\n",
    "ipywidgets.HBox([widget, output])"
   ]
  },
  {
   "cell_type": "code",
   "execution_count": null,
   "id": "058d53e0",
   "metadata": {},
   "outputs": [],
   "source": []
  }
 ],
 "metadata": {
  "kernelspec": {
   "display_name": "Python 3 (ipykernel)",
   "language": "python",
   "name": "python3"
  },
  "language_info": {
   "codemirror_mode": {
    "name": "ipython",
    "version": 3
   },
   "file_extension": ".py",
   "mimetype": "text/x-python",
   "name": "python",
   "nbconvert_exporter": "python",
   "pygments_lexer": "ipython3",
   "version": "3.9.18"
  }
 },
 "nbformat": 4,
 "nbformat_minor": 5
}
